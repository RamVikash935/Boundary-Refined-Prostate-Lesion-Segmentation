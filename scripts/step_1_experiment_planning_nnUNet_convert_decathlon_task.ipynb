{
 "cells": [
  {
   "cell_type": "code",
   "execution_count": 1,
   "id": "5196f958",
   "metadata": {},
   "outputs": [],
   "source": [
    "#    Copyright 2020 Division of Medical Image Computing, German Cancer Research Center (DKFZ), Heidelberg, Germany\n",
    "#\n",
    "#    Licensed under the Apache License, Version 2.0 (the \"License\");\n",
    "#    you may not use this file except in compliance with the License.\n",
    "#    You may obtain a copy of the License at\n",
    "#\n",
    "#        http://www.apache.org/licenses/LICENSE-2.0\n",
    "#\n",
    "#    Unless required by applicable law or agreed to in writing, software\n",
    "#    distributed under the License is distributed on an \"AS IS\" BASIS,\n",
    "#    WITHOUT WARRANTIES OR CONDITIONS OF ANY KIND, either express or implied.\n",
    "#    See the License for the specific language governing permissions and\n",
    "#    limitations under the License."
   ]
  },
  {
   "cell_type": "code",
   "execution_count": 2,
   "id": "9174ab7e",
   "metadata": {},
   "outputs": [],
   "source": [
    "import sys\n",
    "import os\n",
    "\n",
    "sys.path.append(os.path.abspath('/home/user/ram/main_file/all_helper_fn_n_class'))\n",
    "\n",
    "\n",
    "import torch\n",
    "import torch._dynamo\n",
    "\n",
    "# Suppress Triton-related errors and fallback to eager mode\n",
    "torch._dynamo.config.suppress_errors = True\n",
    "\n",
    "import warnings\n",
    "warnings.filterwarnings(\"ignore\", category=UserWarning)  # Ignores only UserWarnings\n",
    "\n",
    "import logging\n",
    "logging.getLogger(\"torch._dynamo\").setLevel(logging.ERROR)  # Hides TorchDynamo warnings\n",
    "\n",
    "from all_helper_fn_n_class.batchgenerators.utilities_file_and_folder_operations import *\n",
    "from all_helper_fn_n_class.configuration import default_num_threads\n",
    "from all_helper_fn_n_class.experiment_planning_utils import split_4d\n",
    "from all_helper_fn_n_class.utilities import remove_trailing_slash"
   ]
  },
  {
   "cell_type": "code",
   "execution_count": 3,
   "id": "fb42ea3b",
   "metadata": {},
   "outputs": [],
   "source": [
    "def crawl_and_remove_hidden_from_decathlon(folder):\n",
    "    folder = remove_trailing_slash(folder)\n",
    "    assert folder.split('/')[-1].startswith(\"Task\"), \"This does not seem to be a decathlon folder. Please give me a \" \\\n",
    "                                                     \"folder that starts with TaskXX and has the subfolders imagesTr, \" \\\n",
    "                                                     \"labelsTr and imagesTs\"\n",
    "    subf = subfolders(folder, join=False)\n",
    "    assert 'imagesTr' in subf, \"This does not seem to be a decathlon folder. Please give me a \" \\\n",
    "                                                     \"folder that starts with TaskXX and has the subfolders imagesTr, \" \\\n",
    "                                                     \"labelsTr and imagesTs\"\n",
    "    assert 'imagesTs' in subf, \"This does not seem to be a decathlon folder. Please give me a \" \\\n",
    "                                                     \"folder that starts with TaskXX and has the subfolders imagesTr, \" \\\n",
    "                                                     \"labelsTr and imagesTs\"\n",
    "    assert 'labelsTr' in subf, \"This does not seem to be a decathlon folder. Please give me a \" \\\n",
    "                                                     \"folder that starts with TaskXX and has the subfolders imagesTr, \" \\\n",
    "                                                     \"labelsTr and imagesTs\"\n",
    "    _ = [os.remove(i) for i in subfiles(folder, prefix=\".\")]\n",
    "    _ = [os.remove(i) for i in subfiles(join(folder, 'imagesTr'), prefix=\".\")]\n",
    "    _ = [os.remove(i) for i in subfiles(join(folder, 'labelsTr'), prefix=\".\")]\n",
    "    _ = [os.remove(i) for i in subfiles(join(folder, 'imagesTs'), prefix=\".\")]"
   ]
  },
  {
   "cell_type": "code",
   "execution_count": 4,
   "id": "233ff207",
   "metadata": {},
   "outputs": [],
   "source": [
    "def split_4d_decathlon_entry(input_folder, num_processes=default_num_threads, output_task_id=None):\n",
    "    \"\"\"\n",
    "    Converts 4D NIfTI MSD data to nnU-Net format with separate 3D NIfTIs for each modality.\n",
    "\n",
    "    Args:\n",
    "        input_folder (str): Path to TaskXX_TASKNAME folder as downloaded from MSD.\n",
    "        num_processes (int, optional): Number of processes to use. Defaults to default_num_threads.\n",
    "        output_task_id (int, optional): If specified, overwrites the task ID in the output. Defaults to None.\n",
    "    \"\"\"\n",
    "    crawl_and_remove_hidden_from_decathlon(input_folder)\n",
    "    split_4d(input_folder, num_processes, output_task_id)"
   ]
  },
  {
   "cell_type": "code",
   "execution_count": 5,
   "id": "b79b3770",
   "metadata": {},
   "outputs": [
    {
     "name": "stdout",
     "output_type": "stream",
     "text": [
      "Entering remove_trailing_slash with filename: /home/user/ram/raw/Task05_Prostate\n",
      "Exiting remove_trailing_slash with result: /home/user/ram/raw/Task05_Prostate\n"
     ]
    }
   ],
   "source": [
    "split_4d_decathlon_entry('/home/user/ram/raw/Task05_Prostate',8,)\n"
   ]
  },
  {
   "cell_type": "code",
   "execution_count": null,
   "id": "2646b96e",
   "metadata": {},
   "outputs": [],
   "source": []
  }
 ],
 "metadata": {
  "kernelspec": {
   "display_name": "ramenv",
   "language": "python",
   "name": "python3"
  },
  "language_info": {
   "codemirror_mode": {
    "name": "ipython",
    "version": 3
   },
   "file_extension": ".py",
   "mimetype": "text/x-python",
   "name": "python",
   "nbconvert_exporter": "python",
   "pygments_lexer": "ipython3",
   "version": "3.10.9"
  }
 },
 "nbformat": 4,
 "nbformat_minor": 5
}
